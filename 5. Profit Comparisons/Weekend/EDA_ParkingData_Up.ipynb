{
 "cells": [
  {
   "cell_type": "markdown",
   "id": "1bb8ef6d",
   "metadata": {},
   "source": [
    "# SEECS Parking Simulation Exploratory Data Analysis"
   ]
  },
  {
   "cell_type": "code",
   "execution_count": 1,
   "id": "b88e04f3",
   "metadata": {},
   "outputs": [],
   "source": [
    "import numpy as np\n",
    "import pandas as pd\n",
    "from matplotlib import pyplot as plt"
   ]
  },
  {
   "cell_type": "markdown",
   "id": "aee9f0bd",
   "metadata": {},
   "source": [
    "## Loading Data from file"
   ]
  },
  {
   "cell_type": "code",
   "execution_count": 4,
   "id": "77330f95",
   "metadata": {
    "scrolled": true
   },
   "outputs": [],
   "source": [
    "# read text file into pandas DataFrame\n",
    "df = pd.read_csv(\"Without.txt\", sep=\"\\t\")\n",
    "df_op = pd.read_csv(\"With.txt\", sep=\"\\t\")"
   ]
  },
  {
   "cell_type": "markdown",
   "id": "2f66b8b1",
   "metadata": {},
   "source": [
    "## Data Preparation and Cleaning\n",
    "\n",
    "- Loading the file using pandas\n",
    "\n",
    "- Fix any missing or incorrect values"
   ]
  },
  {
   "cell_type": "code",
   "execution_count": 5,
   "id": "c7f8db83",
   "metadata": {},
   "outputs": [],
   "source": [
    "cleaned_df = df.copy()\n",
    "cleaned_df.drop('Car ID', inplace=True, axis=1)\n",
    "cleaned_df.drop('Unnamed: 26', inplace=True, axis=1)\n",
    "\n",
    "cleaned_df.drop(cleaned_df[cleaned_df['TBill'] == 0].index, inplace = True)\n",
    "\n",
    "\n",
    "cleaned_df_op = df_op.copy()\n",
    "cleaned_df_op.drop('Car ID', inplace=True, axis=1)\n",
    "cleaned_df_op.drop('Unnamed: 26', inplace=True, axis=1)\n",
    "\n",
    "cleaned_df_op.drop(cleaned_df_op[cleaned_df_op['TBill'] == 0].index, inplace = True)\n"
   ]
  },
  {
   "cell_type": "markdown",
   "id": "b6be1a4a",
   "metadata": {},
   "source": [
    "## Statistical Analysis"
   ]
  },
  {
   "cell_type": "code",
   "execution_count": 6,
   "id": "9107303e",
   "metadata": {},
   "outputs": [
    {
     "data": {
      "text/plain": [
       "181536"
      ]
     },
     "execution_count": 6,
     "metadata": {},
     "output_type": "execute_result"
    }
   ],
   "source": [
    "numerics = ['int16', 'int32', 'int64', 'float16', 'float32', 'float64']\n",
    "\n",
    "numeric_df = cleaned_df.select_dtypes(include=numerics)\n",
    "\n",
    "numeric_df_op = cleaned_df_op.select_dtypes(include=numerics)\n",
    "numeric_df_op.TBill.sum()"
   ]
  },
  {
   "cell_type": "markdown",
   "id": "5312695e",
   "metadata": {},
   "source": [
    "## Plotting histogram for idle vehicle during one day"
   ]
  },
  {
   "cell_type": "code",
   "execution_count": 7,
   "id": "2329a325",
   "metadata": {
    "scrolled": true
   },
   "outputs": [
    {
     "data": {
      "text/html": [
       "<div>\n",
       "<style scoped>\n",
       "    .dataframe tbody tr th:only-of-type {\n",
       "        vertical-align: middle;\n",
       "    }\n",
       "\n",
       "    .dataframe tbody tr th {\n",
       "        vertical-align: top;\n",
       "    }\n",
       "\n",
       "    .dataframe thead th {\n",
       "        text-align: right;\n",
       "    }\n",
       "</style>\n",
       "<table border=\"1\" class=\"dataframe\">\n",
       "  <thead>\n",
       "    <tr style=\"text-align: right;\">\n",
       "      <th></th>\n",
       "      <th>VType</th>\n",
       "      <th>Day</th>\n",
       "      <th>ReqT</th>\n",
       "      <th>EntHr</th>\n",
       "      <th>EntMin</th>\n",
       "      <th>ExitHr</th>\n",
       "      <th>ExitMin</th>\n",
       "      <th>TDelay</th>\n",
       "      <th>IdleT</th>\n",
       "      <th>TBill</th>\n",
       "      <th>...</th>\n",
       "      <th>nFill</th>\n",
       "      <th>Tries</th>\n",
       "      <th>DFS</th>\n",
       "      <th>IdleVeh</th>\n",
       "      <th>tFree</th>\n",
       "      <th>z1Free</th>\n",
       "      <th>z2Free</th>\n",
       "      <th>z3Free</th>\n",
       "      <th>z4Free</th>\n",
       "      <th>dReq</th>\n",
       "    </tr>\n",
       "  </thead>\n",
       "  <tbody>\n",
       "    <tr>\n",
       "      <th>398</th>\n",
       "      <td>1</td>\n",
       "      <td>1</td>\n",
       "      <td>5803</td>\n",
       "      <td>8</td>\n",
       "      <td>15</td>\n",
       "      <td>9</td>\n",
       "      <td>52</td>\n",
       "      <td>5803</td>\n",
       "      <td>914</td>\n",
       "      <td>242</td>\n",
       "      <td>...</td>\n",
       "      <td>1</td>\n",
       "      <td>1</td>\n",
       "      <td>365</td>\n",
       "      <td>7</td>\n",
       "      <td>97</td>\n",
       "      <td>16</td>\n",
       "      <td>51</td>\n",
       "      <td>8</td>\n",
       "      <td>22</td>\n",
       "      <td>11</td>\n",
       "    </tr>\n",
       "    <tr>\n",
       "      <th>81</th>\n",
       "      <td>5</td>\n",
       "      <td>1</td>\n",
       "      <td>12799</td>\n",
       "      <td>8</td>\n",
       "      <td>16</td>\n",
       "      <td>11</td>\n",
       "      <td>49</td>\n",
       "      <td>12799</td>\n",
       "      <td>961</td>\n",
       "      <td>160</td>\n",
       "      <td>...</td>\n",
       "      <td>1</td>\n",
       "      <td>1</td>\n",
       "      <td>365</td>\n",
       "      <td>3</td>\n",
       "      <td>98</td>\n",
       "      <td>16</td>\n",
       "      <td>52</td>\n",
       "      <td>8</td>\n",
       "      <td>22</td>\n",
       "      <td>16</td>\n",
       "    </tr>\n",
       "    <tr>\n",
       "      <th>404</th>\n",
       "      <td>2</td>\n",
       "      <td>1</td>\n",
       "      <td>7843</td>\n",
       "      <td>8</td>\n",
       "      <td>16</td>\n",
       "      <td>10</td>\n",
       "      <td>26</td>\n",
       "      <td>7843</td>\n",
       "      <td>936</td>\n",
       "      <td>229</td>\n",
       "      <td>...</td>\n",
       "      <td>2</td>\n",
       "      <td>1</td>\n",
       "      <td>365</td>\n",
       "      <td>6</td>\n",
       "      <td>96</td>\n",
       "      <td>16</td>\n",
       "      <td>50</td>\n",
       "      <td>8</td>\n",
       "      <td>22</td>\n",
       "      <td>11</td>\n",
       "    </tr>\n",
       "    <tr>\n",
       "      <th>385</th>\n",
       "      <td>1</td>\n",
       "      <td>1</td>\n",
       "      <td>4214</td>\n",
       "      <td>8</td>\n",
       "      <td>19</td>\n",
       "      <td>9</td>\n",
       "      <td>29</td>\n",
       "      <td>4214</td>\n",
       "      <td>1134</td>\n",
       "      <td>176</td>\n",
       "      <td>...</td>\n",
       "      <td>3</td>\n",
       "      <td>1</td>\n",
       "      <td>365</td>\n",
       "      <td>6</td>\n",
       "      <td>94</td>\n",
       "      <td>15</td>\n",
       "      <td>49</td>\n",
       "      <td>8</td>\n",
       "      <td>22</td>\n",
       "      <td>1</td>\n",
       "    </tr>\n",
       "    <tr>\n",
       "      <th>52</th>\n",
       "      <td>3</td>\n",
       "      <td>1</td>\n",
       "      <td>9912</td>\n",
       "      <td>8</td>\n",
       "      <td>20</td>\n",
       "      <td>11</td>\n",
       "      <td>5</td>\n",
       "      <td>9912</td>\n",
       "      <td>1176</td>\n",
       "      <td>186</td>\n",
       "      <td>...</td>\n",
       "      <td>1</td>\n",
       "      <td>1</td>\n",
       "      <td>354</td>\n",
       "      <td>3</td>\n",
       "      <td>96</td>\n",
       "      <td>15</td>\n",
       "      <td>51</td>\n",
       "      <td>8</td>\n",
       "      <td>22</td>\n",
       "      <td>16</td>\n",
       "    </tr>\n",
       "    <tr>\n",
       "      <th>...</th>\n",
       "      <td>...</td>\n",
       "      <td>...</td>\n",
       "      <td>...</td>\n",
       "      <td>...</td>\n",
       "      <td>...</td>\n",
       "      <td>...</td>\n",
       "      <td>...</td>\n",
       "      <td>...</td>\n",
       "      <td>...</td>\n",
       "      <td>...</td>\n",
       "      <td>...</td>\n",
       "      <td>...</td>\n",
       "      <td>...</td>\n",
       "      <td>...</td>\n",
       "      <td>...</td>\n",
       "      <td>...</td>\n",
       "      <td>...</td>\n",
       "      <td>...</td>\n",
       "      <td>...</td>\n",
       "      <td>...</td>\n",
       "      <td>...</td>\n",
       "    </tr>\n",
       "    <tr>\n",
       "      <th>356</th>\n",
       "      <td>5</td>\n",
       "      <td>1</td>\n",
       "      <td>3095</td>\n",
       "      <td>18</td>\n",
       "      <td>54</td>\n",
       "      <td>19</td>\n",
       "      <td>46</td>\n",
       "      <td>3095</td>\n",
       "      <td>39268</td>\n",
       "      <td>39</td>\n",
       "      <td>...</td>\n",
       "      <td>5</td>\n",
       "      <td>1</td>\n",
       "      <td>365</td>\n",
       "      <td>3</td>\n",
       "      <td>64</td>\n",
       "      <td>4</td>\n",
       "      <td>34</td>\n",
       "      <td>5</td>\n",
       "      <td>21</td>\n",
       "      <td>0</td>\n",
       "    </tr>\n",
       "    <tr>\n",
       "      <th>1218</th>\n",
       "      <td>2</td>\n",
       "      <td>1</td>\n",
       "      <td>3772</td>\n",
       "      <td>18</td>\n",
       "      <td>55</td>\n",
       "      <td>19</td>\n",
       "      <td>58</td>\n",
       "      <td>3772</td>\n",
       "      <td>39292</td>\n",
       "      <td>110</td>\n",
       "      <td>...</td>\n",
       "      <td>9</td>\n",
       "      <td>1</td>\n",
       "      <td>365</td>\n",
       "      <td>5</td>\n",
       "      <td>61</td>\n",
       "      <td>5</td>\n",
       "      <td>29</td>\n",
       "      <td>5</td>\n",
       "      <td>22</td>\n",
       "      <td>0</td>\n",
       "    </tr>\n",
       "    <tr>\n",
       "      <th>772</th>\n",
       "      <td>3</td>\n",
       "      <td>1</td>\n",
       "      <td>1153</td>\n",
       "      <td>19</td>\n",
       "      <td>21</td>\n",
       "      <td>19</td>\n",
       "      <td>40</td>\n",
       "      <td>1153</td>\n",
       "      <td>40869</td>\n",
       "      <td>22</td>\n",
       "      <td>...</td>\n",
       "      <td>9</td>\n",
       "      <td>1</td>\n",
       "      <td>365</td>\n",
       "      <td>4</td>\n",
       "      <td>65</td>\n",
       "      <td>6</td>\n",
       "      <td>32</td>\n",
       "      <td>6</td>\n",
       "      <td>21</td>\n",
       "      <td>109</td>\n",
       "    </tr>\n",
       "    <tr>\n",
       "      <th>775</th>\n",
       "      <td>2</td>\n",
       "      <td>1</td>\n",
       "      <td>1001</td>\n",
       "      <td>19</td>\n",
       "      <td>33</td>\n",
       "      <td>19</td>\n",
       "      <td>49</td>\n",
       "      <td>1001</td>\n",
       "      <td>41553</td>\n",
       "      <td>29</td>\n",
       "      <td>...</td>\n",
       "      <td>9</td>\n",
       "      <td>1</td>\n",
       "      <td>365</td>\n",
       "      <td>3</td>\n",
       "      <td>70</td>\n",
       "      <td>7</td>\n",
       "      <td>36</td>\n",
       "      <td>6</td>\n",
       "      <td>21</td>\n",
       "      <td>109</td>\n",
       "    </tr>\n",
       "    <tr>\n",
       "      <th>1226</th>\n",
       "      <td>1</td>\n",
       "      <td>1</td>\n",
       "      <td>888</td>\n",
       "      <td>19</td>\n",
       "      <td>38</td>\n",
       "      <td>19</td>\n",
       "      <td>53</td>\n",
       "      <td>888</td>\n",
       "      <td>41873</td>\n",
       "      <td>37</td>\n",
       "      <td>...</td>\n",
       "      <td>8</td>\n",
       "      <td>1</td>\n",
       "      <td>365</td>\n",
       "      <td>1</td>\n",
       "      <td>65</td>\n",
       "      <td>4</td>\n",
       "      <td>35</td>\n",
       "      <td>4</td>\n",
       "      <td>22</td>\n",
       "      <td>0</td>\n",
       "    </tr>\n",
       "  </tbody>\n",
       "</table>\n",
       "<p>830 rows × 24 columns</p>\n",
       "</div>"
      ],
      "text/plain": [
       "      VType  Day   ReqT  EntHr  EntMin  ExitHr  ExitMin  TDelay  IdleT  TBill  \\\n",
       "398       1    1   5803      8      15       9       52    5803    914    242   \n",
       "81        5    1  12799      8      16      11       49   12799    961    160   \n",
       "404       2    1   7843      8      16      10       26    7843    936    229   \n",
       "385       1    1   4214      8      19       9       29    4214   1134    176   \n",
       "52        3    1   9912      8      20      11        5    9912   1176    186   \n",
       "...     ...  ...    ...    ...     ...     ...      ...     ...    ...    ...   \n",
       "356       5    1   3095     18      54      19       46    3095  39268     39   \n",
       "1218      2    1   3772     18      55      19       58    3772  39292    110   \n",
       "772       3    1   1153     19      21      19       40    1153  40869     22   \n",
       "775       2    1   1001     19      33      19       49    1001  41553     29   \n",
       "1226      1    1    888     19      38      19       53     888  41873     37   \n",
       "\n",
       "      ...  nFill  Tries  DFS  IdleVeh  tFree  z1Free  z2Free  z3Free  z4Free  \\\n",
       "398   ...      1      1  365        7     97      16      51       8      22   \n",
       "81    ...      1      1  365        3     98      16      52       8      22   \n",
       "404   ...      2      1  365        6     96      16      50       8      22   \n",
       "385   ...      3      1  365        6     94      15      49       8      22   \n",
       "52    ...      1      1  354        3     96      15      51       8      22   \n",
       "...   ...    ...    ...  ...      ...    ...     ...     ...     ...     ...   \n",
       "356   ...      5      1  365        3     64       4      34       5      21   \n",
       "1218  ...      9      1  365        5     61       5      29       5      22   \n",
       "772   ...      9      1  365        4     65       6      32       6      21   \n",
       "775   ...      9      1  365        3     70       7      36       6      21   \n",
       "1226  ...      8      1  365        1     65       4      35       4      22   \n",
       "\n",
       "      dReq  \n",
       "398     11  \n",
       "81      16  \n",
       "404     11  \n",
       "385      1  \n",
       "52      16  \n",
       "...    ...  \n",
       "356      0  \n",
       "1218     0  \n",
       "772    109  \n",
       "775    109  \n",
       "1226     0  \n",
       "\n",
       "[830 rows x 24 columns]"
      ]
     },
     "execution_count": 7,
     "metadata": {},
     "output_type": "execute_result"
    }
   ],
   "source": [
    "# Sorting the data\n",
    "numeric_df = numeric_df.sort_values(['EntHr', 'EntMin'], ascending=[True, True])\n",
    "\n",
    "numeric_df_op = numeric_df_op.sort_values(['EntHr', 'EntMin'], ascending=[True, True])\n",
    "numeric_df"
   ]
  },
  {
   "cell_type": "code",
   "execution_count": 8,
   "id": "d7e7172e",
   "metadata": {},
   "outputs": [
    {
     "name": "stdout",
     "output_type": "stream",
     "text": [
      "135644\n",
      "181536\n"
     ]
    }
   ],
   "source": [
    "print(numeric_df[\"TBill\"].sum())\n",
    "print(numeric_df_op[\"TBill\"].sum())"
   ]
  },
  {
   "cell_type": "code",
   "execution_count": 9,
   "id": "1ee7f547",
   "metadata": {},
   "outputs": [
    {
     "name": "stdout",
     "output_type": "stream",
     "text": [
      "[8, 9, 10, 11, 12, 13, 14, 15, 16, 17, 18, 19]\n",
      "[15435, 15108, 11696, 10400, 9374, 16070, 17513, 19106, 13568, 6041, 1245, 88]\n",
      "[24072, 18077, 13588, 18332, 15613, 23171, 20669, 25662, 13791, 7161, 1188, 212]\n"
     ]
    }
   ],
   "source": [
    "hours = sorted(list(df['EntHr'].unique()))  # separating unique hours\n",
    "sum_of_profits = list(np.zeros(len(hours)))  # creating an empty array for storing sum of idle vehicles in each hour\n",
    "\n",
    "for hour in range(len(hours)):\n",
    "    sum_of_profits[hour] = numeric_df[numeric_df['EntHr'] == hours[hour]]['TBill'].sum()\n",
    "    \n",
    "    \n",
    "hours = sorted(list(df['EntHr'].unique()))  # separating unique hours\n",
    "sum_of_profits_op = list(np.zeros(len(hours)))  # creating an empty array for storing sum of idle vehicles in each hour\n",
    "\n",
    "for hour in range(len(hours)):\n",
    "    sum_of_profits_op[hour] = numeric_df_op[numeric_df_op['EntHr'] == hours[hour]]['TBill'].sum()\n",
    "    \n",
    "print(hours)\n",
    "print(sum_of_profits)\n",
    "print(sum_of_profits_op)"
   ]
  },
  {
   "cell_type": "code",
   "execution_count": 10,
   "id": "73902a37",
   "metadata": {},
   "outputs": [
    {
     "data": {
      "image/png": "[encoded data removed]",
      "text/plain": [
       "<Figure size 432x288 with 1 Axes>"
      ]
     },
     "metadata": {},
     "output_type": "display_data"
    }
   ],
   "source": [
    "plt.style.use(\"fivethirtyeight\")\n",
    "\n",
    "plt.plot(hours, sum_of_profits_op, label=\"With Extra\")  #for plotting the graph\n",
    "plt.plot(hours, sum_of_profits, label=\"Without Extra\")\n",
    "\n",
    "plt.xlabel(\"Hour\")\n",
    "plt.ylabel(\"Profits\")\n",
    "plt.legend()\n",
    "plt.title(\"Revenue Per Hour\")\n",
    "plt.xticks(ticks=hours)\n",
    "plt.tight_layout()\n",
    "plt.show()"
   ]
  },
  {
   "cell_type": "code",
   "execution_count": 13,
   "id": "a0c624fa",
   "metadata": {},
   "outputs": [
    {
     "data": {
      "text/plain": [
       "181536"
      ]
     },
     "execution_count": 13,
     "metadata": {},
     "output_type": "execute_result"
    }
   ],
   "source": [
    "\n",
    "numeric_df_op.TBill.sum()"
   ]
  },
  {
   "cell_type": "code",
   "execution_count": 14,
   "id": "de0aa1f9",
   "metadata": {},
   "outputs": [
    {
     "data": {
      "text/plain": [
       "135644"
      ]
     },
     "execution_count": 14,
     "metadata": {},
     "output_type": "execute_result"
    }
   ],
   "source": [
    "numeric_df.TBill.sum()"
   ]
  },
  {
   "cell_type": "code",
   "execution_count": null,
   "id": "46f62a44",
   "metadata": {},
   "outputs": [],
   "source": []
  },
  {
   "cell_type": "code",
   "execution_count": null,
   "id": "a99306c7",
   "metadata": {},
   "outputs": [],
   "source": []
  }
 ],
 "metadata": {
  "kernelspec": {
   "display_name": "Python 3 (ipykernel)",
   "language": "python",
   "name": "python3"
  },
  "language_info": {
   "codemirror_mode": {
    "name": "ipython",
    "version": 3
   },
   "file_extension": ".py",
   "mimetype": "text/x-python",
   "name": "python",
   "nbconvert_exporter": "python",
   "pygments_lexer": "ipython3",
   "version": "3.9.7"
  }
 },
 "nbformat": 4,
 "nbformat_minor": 5
}
